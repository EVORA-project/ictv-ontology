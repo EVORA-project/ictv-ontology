{
 "cells": [
  {
   "cell_type": "markdown",
   "id": "feda8153",
   "metadata": {},
   "source": [
    "# Instantiate ICTV OLS Client"
   ]
  },
  {
   "cell_type": "code",
   "execution_count": 30,
   "id": "d7a03d72",
   "metadata": {},
   "outputs": [
    {
     "name": "stdout",
     "output_type": "stream",
     "text": [
      "The autoreload extension is already loaded. To reload it, use:\n",
      "  %reload_ext autoreload\n"
     ]
    }
   ],
   "source": [
    "%load_ext autoreload\n",
    "%autoreload 2\n",
    "\n",
    "import pandas as pd\n",
    "import json\n",
    "\n",
    "from ictv_ols import ICTVOLSClient\n",
    "client = ICTVOLSClient('https://www.ebi.ac.uk/ols4/api/v2/ontologies/ictv')"
   ]
  },
  {
   "cell_type": "markdown",
   "id": "2be9415a",
   "metadata": {},
   "source": [
    "# Get taxa by release"
   ]
  },
  {
   "cell_type": "code",
   "execution_count": 25,
   "id": "3b0818bd",
   "metadata": {},
   "outputs": [
    {
     "name": "stdout",
     "output_type": "stream",
     "text": [
      "Number of taxa in MSL7: 1221\n",
      "|    | msl   | ictv_id      | label                      |\n",
      "|---:|:------|:-------------|:---------------------------|\n",
      "|  0 | MSL7  | ICTV19790785 | Aus MK 6357 virus          |\n",
      "|  1 | MSL7  | ICTV19710002 | Papovaviridae              |\n",
      "|  2 | MSL7  | ICTV19710003 | Picornaviridae             |\n",
      "|  3 | MSL7  | ICTV19710008 | Papillomavirus             |\n",
      "|  4 | MSL7  | ICTV19710009 | Polyomavirus               |\n",
      "|  5 | MSL7  | ICTV19710010 | Calicivirus                |\n",
      "|  6 | MSL7  | ICTV19710011 | Enterovirus                |\n",
      "|  7 | MSL7  | ICTV19710012 | Rhinovirus                 |\n",
      "|  8 | MSL7  | ICTV19710013 | Mastadenovirus             |\n",
      "|  9 | MSL7  | ICTV19710014 | Alfalfa mosaic virus group |\n"
     ]
    }
   ],
   "source": [
    "\n",
    "msl_7_taxa = client.get_all_taxa_by_release('MSL7')\n",
    "print(f\"Number of taxa in MSL7: {len(msl_7_taxa)}\")\n",
    "\n",
    "df = pd.DataFrame(msl_7_taxa)[['msl', 'ictv_id', 'label']]\n",
    "print(df.head(10).to_markdown())\n",
    "\n"
   ]
  },
  {
   "cell_type": "markdown",
   "id": "d4257589",
   "metadata": {},
   "source": [
    "# Get specific taxon by release"
   ]
  },
  {
   "cell_type": "code",
   "execution_count": 31,
   "id": "732103ef",
   "metadata": {},
   "outputs": [
    {
     "name": "stdout",
     "output_type": "stream",
     "text": [
      "{\n",
      "  \"msl\": \"MSL7\",\n",
      "  \"ictv_id\": \"ICTV19710003\",\n",
      "  \"label\": \"Picornaviridae\",\n",
      "  \"obsolescence_reason\": null,\n",
      "  \"taxonomic_parents\": [\n",
      "    \"http://ictv.global/id/MSL7/ICTV19710000\"\n",
      "  ],\n",
      "  \"historical_parents\": [\n",
      "    \"http://ictv.global/id/MSL6/ICTV19710003\"\n",
      "  ],\n",
      "  \"replacements\": [\n",
      "    \"http://ictv.global/id/MSL8/ICTV19710003\"\n",
      "  ]\n",
      "}\n"
     ]
    }
   ],
   "source": [
    "\n",
    "picornaviridae = client.get_taxon_by_release('MSL7', 'Picornaviridae')\n",
    "print(json.dumps(picornaviridae, indent=2))\n"
   ]
  },
  {
   "cell_type": "markdown",
   "id": "ed2b7422",
   "metadata": {},
   "source": [
    "### And get its taxonomic parents"
   ]
  },
  {
   "cell_type": "code",
   "execution_count": 32,
   "id": "2de8413c",
   "metadata": {},
   "outputs": [
    {
     "name": "stdout",
     "output_type": "stream",
     "text": [
      "        ictv_id           label\n",
      "0  ICTV19710003  Picornaviridae\n"
     ]
    }
   ],
   "source": [
    "\n",
    "parents = client.get_taxonomic_parents('MSL7', 'Cardiovirus')\n",
    "\n",
    "df = pd.DataFrame(parents)[['ictv_id', 'label']]\n",
    "print(df.head(10))\n",
    "\n"
   ]
  },
  {
   "cell_type": "markdown",
   "id": "9a85aa82",
   "metadata": {},
   "source": [
    "# Getting the history of a taxon"
   ]
  },
  {
   "cell_type": "markdown",
   "id": "53bb714b",
   "metadata": {},
   "source": [
    "### What happened to Bovine adenovirus from MSL6?"
   ]
  },
  {
   "cell_type": "code",
   "execution_count": 20,
   "id": "4d240432",
   "metadata": {},
   "outputs": [
    {
     "name": "stdout",
     "output_type": "stream",
     "text": [
      "Obsolescence reason: SPLIT\n",
      "Replacements:\n",
      "|    | msl   | ictv_id      | label               |\n",
      "|---:|:------|:-------------|:--------------------|\n",
      "|  0 | MSL7  | ICTV19810183 | Bovine adenovirus 1 |\n",
      "|  1 | MSL7  | ICTV19810184 | Bovine adenovirus 2 |\n",
      "|  2 | MSL7  | ICTV19810185 | Bovine adenovirus 3 |\n",
      "|  3 | MSL7  | ICTV19810186 | Bovine adenovirus 4 |\n",
      "|  4 | MSL7  | ICTV19810187 | Bovine adenovirus 5 |\n",
      "|  5 | MSL7  | ICTV19810188 | Bovine adenovirus 6 |\n",
      "|  6 | MSL7  | ICTV19810189 | Bovine adenovirus 7 |\n",
      "|  7 | MSL7  | ICTV19810190 | Bovine adenovirus 8 |\n",
      "|  8 | MSL7  | ICTV19810191 | Bovine adenovirus 9 |\n"
     ]
    }
   ],
   "source": [
    "taxon = client.get_taxon_by_release('MSL6', 'Bovine adenovirus')\n",
    "replacements = client.get_replacements('MSL6', 'Bovine adenovirus')\n",
    "\n",
    "print(f\"Obsolescence reason: {taxon['obsolescence_reason']}\")\n",
    "print(f\"Replacements:\")\n",
    "\n",
    "print(pd.DataFrame(replacements)[['msl', 'ictv_id', 'label']].to_markdown())\n",
    "\n"
   ]
  },
  {
   "cell_type": "markdown",
   "id": "ad924ab2",
   "metadata": {},
   "source": [
    "### Where did Poliovirus in MSL18 come from?"
   ]
  },
  {
   "cell_type": "code",
   "execution_count": 22,
   "id": "6634034f",
   "metadata": {},
   "outputs": [
    {
     "name": "stdout",
     "output_type": "stream",
     "text": [
      "|    | msl   | ictv_id      | label              | obsolescence_reason   |\n",
      "|---:|:------|:-------------|:-------------------|:----------------------|\n",
      "|  0 | MSL17 | ICTV19710068 | Human poliovirus 1 | MERGED                |\n",
      "|  1 | MSL17 | ICTV19790556 | Human poliovirus 2 | MERGED                |\n",
      "|  2 | MSL17 | ICTV19790557 | Human poliovirus 3 | MERGED                |\n"
     ]
    }
   ],
   "source": [
    "parents = client.get_historical_parents('MSL18', 'Poliovirus')\n",
    "\n",
    "print(pd.DataFrame(parents)[['msl', 'ictv_id', 'label', 'obsolescence_reason']].to_markdown())"
   ]
  },
  {
   "cell_type": "markdown",
   "id": "a6cf2feb",
   "metadata": {},
   "source": [
    "### Where did Alphacytorhabdovirus in MSL40 come from?"
   ]
  },
  {
   "cell_type": "code",
   "execution_count": 23,
   "id": "91085263",
   "metadata": {},
   "outputs": [
    {
     "name": "stdout",
     "output_type": "stream",
     "text": [
      "|    | msl   | ictv_id      | label           | obsolescence_reason   |\n",
      "|---:|:------|:-------------|:----------------|:----------------------|\n",
      "|  0 | MSL39 | ICTV19820133 | Cytorhabdovirus | SPLIT                 |\n"
     ]
    }
   ],
   "source": [
    "parents = client.get_historical_parents('MSL40', 'Alphacytorhabdovirus')\n",
    "\n",
    "print(pd.DataFrame(parents)[['msl', 'ictv_id', 'label', 'obsolescence_reason']].to_markdown())\n"
   ]
  },
  {
   "cell_type": "markdown",
   "id": "a0e14644",
   "metadata": {},
   "source": [
    "#### ... and what else was Cytorhabdovirus split into?"
   ]
  },
  {
   "cell_type": "code",
   "execution_count": 24,
   "id": "b43e063c",
   "metadata": {},
   "outputs": [
    {
     "name": "stdout",
     "output_type": "stream",
     "text": [
      "|    | msl   | ictv_id       | label                |\n",
      "|---:|:------|:--------------|:---------------------|\n",
      "|  0 | MSL40 | ICTV202419770 | Alphacytorhabdovirus |\n",
      "|  1 | MSL40 | ICTV202419771 | Betacytorhabdovirus  |\n",
      "|  2 | MSL40 | ICTV202419772 | Gammacytorhabdovirus |\n"
     ]
    }
   ],
   "source": [
    "replacements = client.get_replacements('MSL39', 'Cytorhabdovirus')\n",
    "\n",
    "print(pd.DataFrame(replacements)[['msl', 'ictv_id', 'label']].to_markdown())"
   ]
  },
  {
   "cell_type": "markdown",
   "id": "634b0e66",
   "metadata": {},
   "source": [
    "# What happened to MSL38 Stockinghallvirus?"
   ]
  },
  {
   "cell_type": "code",
   "execution_count": 41,
   "id": "424bcdab",
   "metadata": {},
   "outputs": [
    {
     "name": "stdout",
     "output_type": "stream",
     "text": [
      "[]\n"
     ]
    }
   ],
   "source": [
    "replacements = client.get_replacements('MSL38', 'Stockinghallvirus')\n",
    "\n",
    "print(replacements)\n",
    "\n"
   ]
  }
 ],
 "metadata": {
  "kernelspec": {
   "display_name": "Python 3",
   "language": "python",
   "name": "python3"
  },
  "language_info": {
   "codemirror_mode": {
    "name": "ipython",
    "version": 3
   },
   "file_extension": ".py",
   "mimetype": "text/x-python",
   "name": "python",
   "nbconvert_exporter": "python",
   "pygments_lexer": "ipython3",
   "version": "3.12.3"
  }
 },
 "nbformat": 4,
 "nbformat_minor": 5
}
